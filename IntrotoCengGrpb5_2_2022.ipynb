{
  "nbformat": 4,
  "nbformat_minor": 0,
  "metadata": {
    "colab": {
      "name": "IntrotoCengGrpb5.2.2022.ipynb",
      "provenance": []
    },
    "kernelspec": {
      "name": "python3",
      "display_name": "Python 3"
    },
    "language_info": {
      "name": "python"
    }
  },
  "cells": [
    {
      "cell_type": "code",
      "execution_count": 10,
      "metadata": {
        "id": "sLeaV0ZIF5za"
      },
      "outputs": [],
      "source": [
        "class Person:\n",
        "  def __init__(self, name, lastname, age):\n",
        "    self.name = name\n",
        "    self.lastname = lastname\n",
        "    self.age = age\n",
        "  \n",
        "  def walk(self):\n",
        "    print(\"Hello world, I am walking\")\n",
        "  \n",
        "  def talk(self):\n",
        "    print(\"Hey I can walk!\")\n",
        "\n",
        "class Student(Person):\n",
        "  def __init__(self, studentID, department):\n",
        "    self.studentID = studentID\n",
        "    self.department = department\n",
        "    super().__init__(\"Eyup\", \"Cinar\", 21) \n",
        "  \n",
        "  def study(self):\n",
        "    print('Hey I am studying .. ')\n",
        "\n",
        "  def takeExam(self):\n",
        "    print(\"Hey I just took the exam and it was hard!\")\n",
        "  "
      ]
    },
    {
      "cell_type": "code",
      "source": [
        "var1 = Student(152120252002, \"ComputerEng\")\n",
        "\n",
        "var1.name\n",
        "var1.lastname\n"
      ],
      "metadata": {
        "colab": {
          "base_uri": "https://localhost:8080/",
          "height": 35
        },
        "id": "hvQFVKvmv-_Y",
        "outputId": "2da8e2a1-859c-4e12-b8fa-5548b67d9e30"
      },
      "execution_count": 15,
      "outputs": [
        {
          "output_type": "execute_result",
          "data": {
            "application/vnd.google.colaboratory.intrinsic+json": {
              "type": "string"
            },
            "text/plain": [
              "'Cinar'"
            ]
          },
          "metadata": {},
          "execution_count": 15
        }
      ]
    },
    {
      "cell_type": "code",
      "source": [
        "var1 = Person(\"Abdulkadir\", \"Sonmezisik\", 20)\n"
      ],
      "metadata": {
        "id": "eWd14vgFGfCX"
      },
      "execution_count": null,
      "outputs": []
    },
    {
      "cell_type": "code",
      "source": [
        "var2 = Student(1521203215151, \"Computer Engineering\")"
      ],
      "metadata": {
        "id": "mZRvkq66KXNq"
      },
      "execution_count": null,
      "outputs": []
    },
    {
      "cell_type": "code",
      "source": [
        "print(var2.studentID)\n",
        "var2.department"
      ],
      "metadata": {
        "colab": {
          "base_uri": "https://localhost:8080/",
          "height": 52
        },
        "id": "gN8AxEpDKsR3",
        "outputId": "07eaeac5-b502-4503-bd14-3323c8873f5e"
      },
      "execution_count": null,
      "outputs": [
        {
          "output_type": "stream",
          "name": "stdout",
          "text": [
            "1521203215151\n"
          ]
        },
        {
          "output_type": "execute_result",
          "data": {
            "application/vnd.google.colaboratory.intrinsic+json": {
              "type": "string"
            },
            "text/plain": [
              "'Computer Engineering'"
            ]
          },
          "metadata": {},
          "execution_count": 27
        }
      ]
    },
    {
      "cell_type": "code",
      "source": [
        ""
      ],
      "metadata": {
        "id": "-WaE9Qihv5dz"
      },
      "execution_count": null,
      "outputs": []
    }
  ]
}